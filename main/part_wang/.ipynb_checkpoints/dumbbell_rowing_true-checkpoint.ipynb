{
 "cells": [
  {
   "cell_type": "code",
   "execution_count": 1,
   "metadata": {},
   "outputs": [],
   "source": [
    "import sys\n",
    "import cv2\n",
    "import os\n",
    "from sys import platform\n",
    "import matplotlib.pyplot as plt\n",
    "import numpy as np"
   ]
  },
  {
   "cell_type": "code",
   "execution_count": 2,
   "metadata": {},
   "outputs": [],
   "source": [
    "dir_path = '/root/final/main'\n",
    "sys.path.append('/root/final/main')\n",
    "sys.path.append('/usr/local/python/openpose')\n",
    "from openpose import *"
   ]
  },
  {
   "cell_type": "code",
   "execution_count": 3,
   "metadata": {},
   "outputs": [],
   "source": [
    "params = dict()\n",
    "params[\"logging_level\"] = 3\n",
    "params[\"output_resolution\"] = \"-1x-1\"\n",
    "params[\"net_resolution\"] = \"-1x368\"\n",
    "params[\"model_pose\"] = \"BODY_25\"\n",
    "params[\"alpha_pose\"] = 0.6\n",
    "params[\"scale_gap\"] = 0.25\n",
    "params[\"scale_number\"] = 1\n",
    "params[\"render_threshold\"] = 0.05\n",
    "# If GPU version is built, and multiple GPUs are available, set the ID here\n",
    "params[\"num_gpu\"] = 1\n",
    "params[\"num_gpu_start\"] = 0\n",
    "params[\"disable_blending\"] = False\n",
    "# Ensure you point to the correct path where models are located\n",
    "params[\"default_model_folder\"] = \"/root/final/openpose/models/\"\n",
    "# Construct OpenPose object allocates GPU memory\n",
    "openpose = OpenPose(params)"
   ]
  },
  {
   "cell_type": "code",
   "execution_count": 4,
   "metadata": {},
   "outputs": [
    {
     "name": "stderr",
     "output_type": "stream",
     "text": [
      "/root/Anacondas/anaconda3/envs/cs280/lib/python3.6/site-packages/ipykernel_launcher.py:50: RuntimeWarning: invalid value encountered in double_scalars\n",
      "/root/Anacondas/anaconda3/envs/cs280/lib/python3.6/site-packages/ipykernel_launcher.py:50: RuntimeWarning: invalid value encountered in float_scalars\n"
     ]
    }
   ],
   "source": [
    "#test_video1\n",
    "test1 = \"barbell_curls_true\"\n",
    "test2 = \"barbell_curls_wrong\"\n",
    "test3 = \"dumbbell_lateral_raise_true\"\n",
    "test4 = \"dumbbell_lateral_raise_wrong\"\n",
    "test5 = \"dumbbell_lateral_raise_whole_true\"\n",
    "test6 = \"dumbbell_lateral_raise_whole_wrong1\"\n",
    "test7 = \"dumbbell_lateral_raise_whole_wrong2\"\n",
    "test8 = \"dumbbell_rowing_true\"\n",
    "test9 = \"dumbbell_rowing_wrong\"\n",
    "test10 = \"rope_down_true\"\n",
    "test11 = \"rope_down_wrong\"\n",
    "test12 = \"squat_true\"\n",
    "test13 = \"squat_wrong\"\n",
    "\n",
    "#test_video2\n",
    "test14 = \"barbell_curls_test1\"\n",
    "test15 = \"barbell_curls_test2\" \n",
    "test16 = \"barbell_curls_test3\"\n",
    "test17 = \"dumbbell_lateral_raise_test1\"\n",
    "test18 = \"dumbbell_lateral_raise_test2\"\n",
    "test19 = \"dumbbell_lateral_raise_test3\"\n",
    "test20 = \"dumbbell_rowing_test\"\n",
    "test21 = \"squat_test1\"\n",
    "test22 = \"squat_test2\"\n",
    "\n",
    "\n",
    "# the path of the video\n",
    "#input_path = \"/root/final/main/test_video/test_video1/\" # for test_video1\n",
    "#!!if you want to use videos in test_video2, comment the above line and use the following one\n",
    "input_path = \"/root/final/main/test_video/test_video2/\" #for test_video2\n",
    "\n",
    "\n",
    "input_video = test8\n",
    "input_type = \".mp4\"\n",
    "cap = cv2.VideoCapture(input_path+input_video+input_type)\n",
    "# create the output folder\n",
    "folder = os.path.exists(\"output_video/\"+ input_video) \n",
    "if not folder:                  \n",
    "    os.makedirs(\"output_video/\"+ input_video) \n",
    "\n",
    "def get_angle(vec1,vec2):\n",
    "    # return the angle of vector one to vector two in clockwise direction\n",
    "    #vec1 and vec2 are list\n",
    "    x = np.array(vec1)\n",
    "    y = np.array(vec2)\n",
    "    #lenth\n",
    "    Lx = np.sqrt(x.dot(x))\n",
    "    Ly = np.sqrt(y.dot(y))\n",
    "    cos_angle = x.dot(y)/(Lx*Ly)\n",
    "    if cos_angle > 1:\n",
    "        cos_angle = 1\n",
    "    angle = np.arccos(cos_angle)\n",
    "    angle2 = angle*360/2/np.pi\n",
    "    crossdd = np.cross(x,y)\n",
    "    if (crossdd <= 0):\n",
    "        return -angle2\n",
    "    else:\n",
    "        return angle2\n",
    "    \n",
    "\n",
    "# here determine whether is right or left hand exercising\n",
    "def which_arm(L_point,R_point):\n",
    "    if L_point < R_point:\n",
    "        return 0\n",
    "    else:\n",
    "        return 1\n",
    "#(0 for left, 1 for right)        \n",
    "  \n",
    "    \n",
    "count = 0\n",
    "theta = 0 # 起始预计的夹角\n",
    "body_angle = []\n",
    "upper_arm = []\n",
    "between_arm = []\n",
    "index_count = []\n",
    "while(cap.isOpened()):\n",
    "    ret, frame = cap.read()  \n",
    "    if frame is None:\n",
    "        break\n",
    "    \n",
    "    # no need shift for this image for test_8\n",
    "    if (input_path == \"/root/final/main/test_video/test_video2/\"):\n",
    "        frame = cv2.transpose(frame)\n",
    "        frame = cv2.flip(frame,1)\n",
    "    \n",
    "    #return the keypoints and rendered output images\n",
    "    keypoints, output_image = openpose.forward(frame, True)\n",
    "    # Print the human pose keypoints, i.e., a [#people x #keypoints x 3]-dimensional numpy object with the keypoints of all the people on that image\n",
    "    \n",
    "    #在开始时候判定运动手\n",
    "    if count==0:\n",
    "        flag = which_arm(keypoints[0][4][1],keypoints[0][7][1])\n",
    "        \n",
    "    # 得到躯干和水平线的夹角    \n",
    "    H18 = list(keypoints[0][8][0:2]-keypoints[0][1][0:2])\n",
    "    Hhorizon = [-1,0]\n",
    "    body_angle.append(get_angle(H18,Hhorizon))\n",
    "    \n",
    "    \n",
    "    #存储右臂的夹角\n",
    "    if flag == 1:\n",
    "        L23 = list(keypoints[0][3][0:2]-keypoints[0][2][0:2])\n",
    "        upper_arm.append(get_angle(Hhorizon,L23))\n",
    "        \n",
    "        # 存储之间的夹角\n",
    "        L32 = list(keypoints[0][2][0:2]-keypoints[0][3][0:2])\n",
    "        L34 = list(keypoints[0][4][0:2]-keypoints[0][3][0:2])\n",
    "        #修复bug:有可能出现反关节，一般出现在接近180的位置，这样的值就会为负，这里处理为正值\n",
    "        remix = get_angle(L32,L34)\n",
    "        if remix < 0:\n",
    "            remix = -remix\n",
    "        between_arm.append(remix)\n",
    "        \n",
    "    # 存储左臂的夹角   \n",
    "    if flag == 0:\n",
    "        R56 = list(keypoints[0][6][0:2]-keypoints[0][5][0:2])\n",
    "        upper_arm.append(get_angle(Hhorizon,R56))\n",
    "        \n",
    "        #存储之间的夹角\n",
    "        R65 = list(keypoints[0][5][0:2]-keypoints[0][6][0:2])\n",
    "        R67 = list(keypoints[0][7][0:2]-keypoints[0][6][0:2])\n",
    "        #修复bug:有可能出现反关节，一般出现在接近180的位置，这样的值就会为负，这里处理为正值\n",
    "        remix = get_angle(R65,R67)\n",
    "        if remix < 0:\n",
    "            remix = -remix\n",
    "        between_arm.append(remix)\n",
    "\n",
    "     # store the image\n",
    "    temp_name = str(count)\n",
    "    while(len(temp_name)!=4):\n",
    "        temp_name = \"0\"+temp_name\n",
    "    store_name = \"output_video/\"+ input_video + \"/\" + temp_name+\".jpg\"\n",
    "    index_count.append(store_name)\n",
    "    #print(store_name)\n",
    "    cv2.imwrite(store_name, output_image);\n",
    "    count+=1\n",
    "#print(count)\n"
   ]
  },
  {
   "cell_type": "code",
   "execution_count": 5,
   "metadata": {
    "scrolled": true
   },
   "outputs": [
    {
     "data": {
      "image/png": "[encoded data removed]",
      "text/plain": [
       "<Figure size 432x288 with 1 Axes>"
      ]
     },
     "metadata": {
      "needs_background": "light"
     },
     "output_type": "display_data"
    },
    {
     "data": {
      "image/png": "[encoded data removed]",
      "text/plain": [
       "<Figure size 432x288 with 1 Axes>"
      ]
     },
     "metadata": {
      "needs_background": "light"
     },
     "output_type": "display_data"
    }
   ],
   "source": [
    "plt.plot(upper_arm,'bo')\n",
    "plt.ylabel('Upper arm vs. Horizontal line')\n",
    "plt.xlabel('degree with time')\n",
    "plt.show()\n",
    "\n",
    "plt.plot(between_arm,'bo')\n",
    "plt.ylabel('Upper arm vs. Forearm')\n",
    "plt.xlabel('degree with time')\n",
    "plt.show()"
   ]
  },
  {
   "cell_type": "code",
   "execution_count": 12,
   "metadata": {},
   "outputs": [],
   "source": [
    "#print(body_angle)\n",
    "#img = cv2.imread(index_count[3]);\n",
    "#plt.imshow(img)\n",
    "#plt.show()"
   ]
  },
  {
   "cell_type": "code",
   "execution_count": 13,
   "metadata": {},
   "outputs": [
    {
     "name": "stdout",
     "output_type": "stream",
     "text": [
      "seperating points are: []\n"
     ]
    }
   ],
   "source": [
    "# try to deal with each action seperately\n",
    "feedbacks = []\n",
    "seperate_point = []\n",
    "\n",
    "\n",
    "####\n",
    "# to store the frame of wrong action\n",
    "feedbacks_image = []\n",
    "####\n",
    "\n",
    "\n",
    "import peakutils\n",
    "aa= -np.array(upper_arm)\n",
    "seperate_points = peakutils.indexes(aa, min_dist=100)\n",
    "print('seperating points are:', seperate_points)\n",
    "\n",
    "for index_x in range(0,len(seperate_points)-1):\n",
    "    print(index_x)\n",
    "    feedback_temp = ['None','None','None','None','None','None']\n",
    "    feedback_image_temp = ['None','None','None','None','None','None']\n",
    "    \n",
    "    test_body_angle = body_angle[ seperate_points[index_x] :  seperate_points[index_x+1]]\n",
    "    test_upper_arm = upper_arm[ seperate_points[index_x] :  seperate_points[index_x+1]]\n",
    "    test_between_arm = between_arm[ seperate_points[index_x] :  seperate_points[index_x+1]]\n",
    "    time = (seperate_points[index_x+1] - seperate_points[index_x])/60\n",
    "    \n",
    "    \n",
    "    #first module\n",
    "    if (test_body_angle[60] > 20):\n",
    "        feedback_temp[0]=(\"Warning:You didn't keep your back paralle to the ground!\")\n",
    "    \n",
    "    max_body_angle = max(test_body_angle)\n",
    "    max_index = body_angle.index(max_body_angle)\n",
    "    min_body_angle = min(test_body_angle)\n",
    "    min_index = body_angle.index(min_body_angle)\n",
    "    if (max_body_angle - min_body_angle > 10):\n",
    "        feedback_temp[1]=(\"Keep your body fixed! Do not shake!\")\n",
    "        \n",
    "    #second module   \n",
    "    max_upper_arm = max(test_upper_arm)\n",
    "    max_index = upper_arm.index(max_upper_arm)\n",
    "    if (max_upper_arm < 10):\n",
    "        feedback_temp[2]=(\"You should lift the dumbbell higher!\")\n",
    "        feedback_image_temp[2]=index_count[max_index]\n",
    "    \n",
    "    #third module\n",
    "    max_between_arm = max(test_between_arm)\n",
    "    max_index = between_arm.index(max_between_arm)\n",
    "    min_between_arm = min(test_between_arm)\n",
    "    min_index = between_arm.index(min_between_arm)\n",
    "    if (min_between_arm < 40):\n",
    "        feedback_temp[3]=(\"The angle between your upper arm and forearm is too small!\")\n",
    "        feedback_image_temp[3]=index_count[min_index]\n",
    "    elif (min_between_arm > 80):\n",
    "        feedback_temp[3]=(\"The angle between your upper arm and forearm is too big!\")\n",
    "        feedback_image_temp[3]=index_count[min_index]\n",
    "    else:\n",
    "        pass\n",
    "    \n",
    "    if (max_between_arm < 160):\n",
    "        feedback_temp[4]=(\"You should put the dumbbell lower to let your muscle stretch more!\")\n",
    "        feedback_image_temp[4]=index_count[max_index]\n",
    "    else:\n",
    "        pass\n",
    "    \n",
    "    #fourth module            \n",
    "    if time < 2.5:\n",
    "        feedback_temp[5] = \"Too fast!\" \n",
    "            \n",
    "    feedbacks.append(feedback_temp)\n",
    "    feedbacks_image.append(feedback_image_temp)   "
   ]
  },
  {
   "cell_type": "code",
   "execution_count": 14,
   "metadata": {},
   "outputs": [],
   "source": [
    "import pylab\n",
    "pylab.rcParams['figure.figsize'] = (10.0, 6.0)\n",
    "for each_x in range(len(seperate_points)-1):\n",
    "    print(\"In the \"+ str(each_x+1) +\" turn, you have several problems:\")\n",
    "    feedback = feedbacks[each_x]\n",
    "    image_part = feedbacks_image[each_x]\n",
    "    if feedback == ['None','None','None','None','None','None']:\n",
    "        print('Good Jobs!!!!!')\n",
    "    else:\n",
    "        for each_y in range(len(feedback)):\n",
    "            if feedback[each_y] != 'None':\n",
    "                \n",
    "                if image_part[each_y] != 'None':\n",
    "                    print('\\033[1;35m',feedback[each_y])\n",
    "                    #print(image_part[each_y])\n",
    "                    \n",
    "                    img = cv2.imread(image_part[each_y]);\n",
    "                    plt.imshow(img)\n",
    "                    plt.show()\n",
    "                else:\n",
    "                    print(feedback[each_y])\n",
    "\n",
    "    print('~~~~~~~~~~~~~~~~~~~~~~')\n",
    "        \n"
   ]
  },
  {
   "cell_type": "code",
   "execution_count": 15,
   "metadata": {},
   "outputs": [
    {
     "name": "stdout",
     "output_type": "stream",
     "text": [
      "[]\n"
     ]
    }
   ],
   "source": [
    "print(feedbacks_image)"
   ]
  },
  {
   "cell_type": "code",
   "execution_count": null,
   "metadata": {},
   "outputs": [],
   "source": []
  }
 ],
 "metadata": {
  "kernelspec": {
   "display_name": "Python 3",
   "language": "python",
   "name": "python3"
  },
  "language_info": {
   "codemirror_mode": {
    "name": "ipython",
    "version": 3
   },
   "file_extension": ".py",
   "mimetype": "text/x-python",
   "name": "python",
   "nbconvert_exporter": "python",
   "pygments_lexer": "ipython3",
   "version": "3.6.7"
  }
 },
 "nbformat": 4,
 "nbformat_minor": 2
}
