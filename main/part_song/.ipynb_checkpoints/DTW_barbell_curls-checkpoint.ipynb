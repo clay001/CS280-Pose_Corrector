{
 "cells": [
  {
   "cell_type": "code",
   "execution_count": 1,
   "metadata": {},
   "outputs": [],
   "source": [
    "import numpy as np\n",
    "from sklearn.metrics import classification_report"
   ]
  },
  {
   "cell_type": "code",
   "execution_count": 2,
   "metadata": {},
   "outputs": [],
   "source": [
    "# Compute Dynamic Time Warp Distance of two sequences\n",
    "# http://alexminnaar.com/time-series-classification-and-clustering-with-python.html\n",
    "def DTWDistance(s1, s2):\n",
    "    DTW={}\n",
    "\n",
    "    for i in range(len(s1)):\n",
    "        DTW[(i, -1)] = float('inf')\n",
    "    for i in range(len(s2)):\n",
    "        DTW[(-1, i)] = float('inf')\n",
    "    DTW[(-1, -1)] = 0\n",
    "\n",
    "    for i in range(len(s1)):\n",
    "        for j in range(len(s2)):\n",
    "            dist= (s1[i]-s2[j])**2\n",
    "            DTW[(i, j)] = dist + min(DTW[(i-1, j)],DTW[(i, j-1)], DTW[(i-1, j-1)])\n",
    "\n",
    "    return np.sqrt(DTW[len(s1)-1, len(s2)-1])"
   ]
  },
  {
   "cell_type": "code",
   "execution_count": 8,
   "metadata": {},
   "outputs": [
    {
     "name": "stdout",
     "output_type": "stream",
     "text": [
      "33\n"
     ]
    }
   ],
   "source": [
    "# now using the Dynamic time warping to compare the similarity to the standard action\n",
    "# the above action part(theta list) is stored in whole_actions\n",
    "#np.savetxt('a.txt',a,fmt='%0.8f')\n",
    "#for x in whole_actions:\n",
    "template = []\n",
    "template.append( np.loadtxt('barbell_template/template_true0.txt',dtype=np.float32) )\n",
    "template.append( np.loadtxt('barbell_template/template_true1.txt',dtype=np.float32) )\n",
    "template.append( np.loadtxt('barbell_template/template_true2.txt',dtype=np.float32) )\n",
    "template.append( np.loadtxt('barbell_template/template_wrong3.txt',dtype=np.float32) )\n",
    "template.append( np.loadtxt('barbell_template/template_wrong4.txt',dtype=np.float32) )  \n",
    "template.append( np.loadtxt('barbell_template/template_wrong5.txt',dtype=np.float32) )\n",
    "template_label = [1,1,1,0,0,0]\n",
    "\n",
    "test = []\n",
    "for i in range(33):\n",
    "    name  = 'barbell_template/test'+str(i)+'.txt'\n",
    "    test.append( np.loadtxt(name,dtype=np.float32) )\n",
    "    \n",
    "truth = [1,0,1,1,1,0,0,1,1,1,1,1,1,1,1,1,1,0,0,0,1,0,0,1,0,0,0,0,0,0,0,0,0]\n",
    "print(len(truth))"
   ]
  },
  {
   "cell_type": "code",
   "execution_count": 9,
   "metadata": {},
   "outputs": [
    {
     "name": "stdout",
     "output_type": "stream",
     "text": [
      "48.55409528819039 good\n",
      "156.49801407661474 bad\n",
      "56.40389612787288 good\n",
      "170.465485497131 bad\n",
      "53.411251793128805 good\n",
      "167.9088155835669 bad\n",
      "61.41347951667897 good\n",
      "178.24623252564206 bad\n",
      "73.30507965393784 good\n",
      "192.3690691345025 bad\n",
      "65.70512890879176 good\n",
      "181.00306265200481 bad\n",
      "58.4734720711735 good\n",
      "173.71172657624572 bad\n",
      "49.5383020985661 good\n",
      "161.55364980976324 bad\n",
      "47.40826836959739 good\n",
      "159.72995605940798 bad\n",
      "62.72169082463819 good\n",
      "180.46419137459193 bad\n",
      "82.3836624901393 good\n",
      "203.3170404135398 bad\n",
      "53.371333889542115 good\n",
      "161.97338211119003 bad\n",
      "36.26947565716635 good\n",
      "143.81006016451485 bad\n",
      "50.43819691098279 good\n",
      "152.75933503902164 bad\n",
      "68.72228690307566 good\n",
      "186.2438238554165 bad\n",
      "77.8007060055902 good\n",
      "196.650836872828 bad\n",
      "61.53719775332426 good\n",
      "172.36759091499098 bad\n",
      "148.79979784608653 good\n",
      "212.36006688266 bad\n",
      "51.08997605563862 good\n",
      "162.3956684995267 bad\n",
      "58.52667396724573 good\n",
      "175.1240122746908 bad\n",
      "55.24626351661516 good\n",
      "168.8225683194514 bad\n",
      "48.890114220959894 good\n",
      "162.09498150284875 bad\n",
      "109.36955082797981 good\n",
      "106.59391273372417 bad\n",
      "91.64824747315623 good\n",
      "216.07149924552084 bad\n",
      "103.73115485956801 good\n",
      "229.0809522868669 bad\n",
      "105.60782314667226 good\n",
      "231.06451146672882 bad\n",
      "109.74513103523005 good\n",
      "235.61139349449172 bad\n",
      "110.61947868388911 good\n",
      "236.27366196767267 bad\n",
      "107.04764478657012 good\n",
      "229.7562983296817 bad\n",
      "95.076677399747 good\n",
      "218.9333009159238 bad\n",
      "92.33333200308356 good\n",
      "215.5859448826269 bad\n",
      "84.36571465823069 good\n",
      "202.79761854825801 bad\n",
      "117.19780576036838 good\n",
      "139.0864444220072 bad\n",
      "[1, 1, 1, 1, 1, 1, 1, 1, 1, 1, 1, 1, 1, 1, 1, 1, 1, 1, 1, 1, 1, 1, 0, 1, 1, 1, 1, 1, 1, 1, 1, 1, 1]\n",
      "[1, 0, 1, 1, 1, 0, 0, 1, 1, 1, 1, 1, 1, 1, 1, 1, 1, 0, 0, 0, 1, 0, 0, 1, 0, 0, 0, 0, 0, 0, 0, 0, 0]\n",
      "              precision    recall  f1-score   support\n",
      "\n",
      "         Bad       1.00      0.06      0.11        17\n",
      "        Good       0.50      1.00      0.67        16\n",
      "\n",
      "   micro avg       0.52      0.52      0.52        33\n",
      "   macro avg       0.75      0.53      0.39        33\n",
      "weighted avg       0.76      0.52      0.38        33\n",
      "\n"
     ]
    }
   ],
   "source": [
    "predictions = []\n",
    "for j in range(len(test)):\n",
    "    f1_good = [] \n",
    "    f1_bad  = []\n",
    "    # Compare distance of current test example with all training examples\n",
    "    for i in range(len(template)):\n",
    "        dist1 = DTWDistance(template[i], test[j])\n",
    "        if template_label[i]:\n",
    "            f1_good.append(dist1)\n",
    "        else:\n",
    "            f1_bad.append(dist1)\n",
    "    good_score = np.mean(f1_good) \n",
    "    bad_score = np.mean(f1_bad) \n",
    "    print(good_score , \"good\")\n",
    "    print(bad_score , \"bad\")\n",
    "    if good_score*2.5 <= bad_score:\n",
    "        predictions.append(1)\n",
    "    else:\n",
    "        predictions.append(0)\n",
    "print(predictions)\n",
    "print(truth)\n",
    "#print(classification_report([0,1,1], predictions, target_names=['correct', 'incorrect']))\n",
    "target_names = ['Bad', 'Good']\n",
    "print(classification_report(truth, predictions, target_names=target_names))"
   ]
  },
  {
   "cell_type": "code",
   "execution_count": null,
   "metadata": {},
   "outputs": [],
   "source": [
    "truth = [1,1,1,0,0,1,1,1,1,1,1,0,0,0]"
   ]
  }
 ],
 "metadata": {
  "kernelspec": {
   "display_name": "Python 3",
   "language": "python",
   "name": "python3"
  },
  "language_info": {
   "codemirror_mode": {
    "name": "ipython",
    "version": 3
   },
   "file_extension": ".py",
   "mimetype": "text/x-python",
   "name": "python",
   "nbconvert_exporter": "python",
   "pygments_lexer": "ipython3",
   "version": "3.6.7"
  }
 },
 "nbformat": 4,
 "nbformat_minor": 2
}
