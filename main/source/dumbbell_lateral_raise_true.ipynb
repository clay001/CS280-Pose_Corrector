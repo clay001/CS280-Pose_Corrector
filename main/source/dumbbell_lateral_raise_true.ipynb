{
 "cells": [
  {
   "cell_type": "code",
   "execution_count": 1,
   "metadata": {},
   "outputs": [],
   "source": [
    "import sys\n",
    "import cv2\n",
    "import os\n",
    "from sys import platform\n",
    "import matplotlib.pyplot as plt\n",
    "import numpy as np"
   ]
  },
  {
   "cell_type": "code",
   "execution_count": 2,
   "metadata": {},
   "outputs": [],
   "source": [
    "dir_path = '/root/final/main'\n",
    "sys.path.append('/root/final/main')\n",
    "sys.path.append('/usr/local/python/openpose')\n",
    "from openpose import *"
   ]
  },
  {
   "cell_type": "code",
   "execution_count": 3,
   "metadata": {},
   "outputs": [],
   "source": [
    "params = dict()\n",
    "params[\"logging_level\"] = 3\n",
    "params[\"output_resolution\"] = \"-1x-1\"\n",
    "params[\"net_resolution\"] = \"-1x368\"\n",
    "params[\"model_pose\"] = \"BODY_25\"\n",
    "params[\"alpha_pose\"] = 0.6\n",
    "params[\"scale_gap\"] = 0.25\n",
    "params[\"scale_number\"] = 1\n",
    "params[\"render_threshold\"] = 0.05\n",
    "# If GPU version is built, and multiple GPUs are available, set the ID here\n",
    "params[\"num_gpu\"] = 1\n",
    "params[\"num_gpu_start\"] = 1\n",
    "params[\"disable_blending\"] = False\n",
    "# Ensure you point to the correct path where models are located\n",
    "params[\"default_model_folder\"] = \"/root/final/openpose/models/\"\n",
    "# Construct OpenPose object allocates GPU memory\n",
    "openpose = OpenPose(params)"
   ]
  },
  {
   "cell_type": "code",
   "execution_count": 4,
   "metadata": {},
   "outputs": [
    {
     "name": "stdout",
     "output_type": "stream",
     "text": [
      "1824\n"
     ]
    }
   ],
   "source": [
    "test1 = \"barbell_curls_true\"\n",
    "test2 = \"barbell_curls_wrong\"\n",
    "test3 = \"dumbbell_lateral_raise_true\"\n",
    "test4 = \"dumbbell_lateral_raise_wrong\"\n",
    "test5 = \"dumbbell_lateral_raise_whole_true\"\n",
    "test6 = \"dumbbell_lateral_raise_whole_wrong1\"\n",
    "test7 = \"dumbbell_lateral_raise_whole_wrong2\"\n",
    "test8 = \"dumbbell_rowing_true\"\n",
    "test9 = \"dumbbell_rowing_wrong\"\n",
    "test10 = \"rope_down_true\"\n",
    "test11 = \"rope_down_wrong\"\n",
    "test12 = \"squat_true\"\n",
    "test13 = \"squat_wrong\"\n",
    "# the path of the video\n",
    "input_path = \"/root/final/main/test_video/\"\n",
    "input_video = test3\n",
    "input_type = \".mp4\"\n",
    "cap = cv2.VideoCapture(input_path+input_video+input_type)\n",
    "# create the output folder\n",
    "folder = os.path.exists(\"output_video/\"+ input_video) \n",
    "if not folder:                  \n",
    "    os.makedirs(\"output_video/\"+ input_video) \n",
    "\n",
    "count = 0\n",
    "while(cap.isOpened()):\n",
    "    ret, frame = cap.read()  \n",
    "    if frame is None:\n",
    "        break;\n",
    "    if count% 3==0 :\n",
    "        # following 2 lines are used for test\n",
    "        #frame=cv2.transpose(frame)\n",
    "        frame=cv2.flip(frame,0)\n",
    "        frame=cv2.flip(frame,1)\n",
    "        #print(frame.shape)\n",
    "        #plt.imshow(frame)\n",
    "        #plt.show() \n",
    "        #break\n",
    "        #return the keypoints and rendered output images\n",
    "        keypoints, output_image = openpose.forward(frame, True)\n",
    "        # Print the human pose keypoints, i.e., a [#people x #keypoints x 3]-dimensional numpy object with the keypoints of all the people on that image\n",
    "        #print(keypoints)\n",
    "        #print(output_image.shape)\n",
    "        #plt.imshow(output_image)\n",
    "        #plt.show()\n",
    "        # store the image\n",
    "        temp_name = str(count)\n",
    "        while(len(temp_name)!=4):\n",
    "            temp_name = \"0\"+temp_name\n",
    "        store_name = \"output_video/\"+ input_video + \"/\" + temp_name+\".jpg\"\n",
    "        print(store_name)\n",
    "        cv2.imwrite(store_name, output_image);\n",
    "    count+=1\n",
    "print(count)"
   ]
  },
  {
   "cell_type": "code",
   "execution_count": 5,
   "metadata": {},
   "outputs": [
    {
     "name": "stdout",
     "output_type": "stream",
     "text": [
      "(1, 25, 3)\n"
     ]
    }
   ],
   "source": [
    "print(keypoints.shape)"
   ]
  },
  {
   "cell_type": "code",
   "execution_count": null,
   "metadata": {},
   "outputs": [],
   "source": []
  },
  {
   "cell_type": "code",
   "execution_count": null,
   "metadata": {},
   "outputs": [],
   "source": []
  }
 ],
 "metadata": {
  "kernelspec": {
   "display_name": "Python 3",
   "language": "python",
   "name": "python3"
  },
  "language_info": {
   "codemirror_mode": {
    "name": "ipython",
    "version": 3
   },
   "file_extension": ".py",
   "mimetype": "text/x-python",
   "name": "python",
   "nbconvert_exporter": "python",
   "pygments_lexer": "ipython3",
   "version": "3.6.7"
  }
 },
 "nbformat": 4,
 "nbformat_minor": 2
}
